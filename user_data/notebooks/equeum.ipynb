{
 "cells": [
  {
   "cell_type": "markdown",
   "metadata": {},
   "source": [
    "Convert excel to csv for every minute"
   ]
  },
  {
   "cell_type": "code",
   "execution_count": 86,
   "metadata": {},
   "outputs": [],
   "source": [
    "import pandas as pd\n",
    "import numpy as np\n",
    "\n",
    "data = pd.read_csv(\"equem_eth_history_data.csv\", parse_dates=[\"Start Time\", \"End Time\"])\n",
    "\n",
    "equeum_data = pd.date_range(start=\"02/01/2022\", name=\"date\", end=\"10/06/2022\", freq=\"1min\").to_frame(index=True)\n",
    "\n",
    "def map_trend(value):\n",
    "\treturn data[(value >= data['Start Time']) & (value <= data['End Time'])]['Trade Type'].iloc[0]\n",
    " \n",
    "equeum_data['trade_type'] = equeum_data['date'].map(map_trend)\n",
    "\n",
    "equeum_data.to_csv('equeum_data_history.csv')\n",
    "# print(equeum_data.dtypes)"
   ]
  },
  {
   "cell_type": "markdown",
   "metadata": {},
   "source": [
    "## load data from API"
   ]
  },
  {
   "cell_type": "code",
   "execution_count": 112,
   "metadata": {},
   "outputs": [
    {
     "data": {
      "text/html": [
       "<div>\n",
       "<style scoped>\n",
       "    .dataframe tbody tr th:only-of-type {\n",
       "        vertical-align: middle;\n",
       "    }\n",
       "\n",
       "    .dataframe tbody tr th {\n",
       "        vertical-align: top;\n",
       "    }\n",
       "\n",
       "    .dataframe thead th {\n",
       "        text-align: right;\n",
       "    }\n",
       "</style>\n",
       "<table border=\"1\" class=\"dataframe\">\n",
       "  <thead>\n",
       "    <tr style=\"text-align: right;\">\n",
       "      <th></th>\n",
       "      <th>time</th>\n",
       "      <th>price</th>\n",
       "      <th>forecast</th>\n",
       "      <th>pnl</th>\n",
       "      <th>trend</th>\n",
       "    </tr>\n",
       "  </thead>\n",
       "  <tbody>\n",
       "    <tr>\n",
       "      <th>320803</th>\n",
       "      <td>1665330180</td>\n",
       "      <td>1324.23</td>\n",
       "      <td>66.667</td>\n",
       "      <td>228.396</td>\n",
       "      <td>up</td>\n",
       "    </tr>\n",
       "    <tr>\n",
       "      <th>320804</th>\n",
       "      <td>1665330240</td>\n",
       "      <td>1324.29</td>\n",
       "      <td>66.667</td>\n",
       "      <td>228.400</td>\n",
       "      <td>up</td>\n",
       "    </tr>\n",
       "    <tr>\n",
       "      <th>320805</th>\n",
       "      <td>1665330300</td>\n",
       "      <td>1324.56</td>\n",
       "      <td>66.667</td>\n",
       "      <td>228.421</td>\n",
       "      <td>up</td>\n",
       "    </tr>\n",
       "    <tr>\n",
       "      <th>320806</th>\n",
       "      <td>1665330360</td>\n",
       "      <td>1324.78</td>\n",
       "      <td>66.667</td>\n",
       "      <td>228.437</td>\n",
       "      <td>up</td>\n",
       "    </tr>\n",
       "    <tr>\n",
       "      <th>320807</th>\n",
       "      <td>1665330420</td>\n",
       "      <td>1324.75</td>\n",
       "      <td>66.667</td>\n",
       "      <td>228.435</td>\n",
       "      <td>up</td>\n",
       "    </tr>\n",
       "  </tbody>\n",
       "</table>\n",
       "</div>"
      ],
      "text/plain": [
       "              time    price  forecast      pnl trend\n",
       "320803  1665330180  1324.23    66.667  228.396    up\n",
       "320804  1665330240  1324.29    66.667  228.400    up\n",
       "320805  1665330300  1324.56    66.667  228.421    up\n",
       "320806  1665330360  1324.78    66.667  228.437    up\n",
       "320807  1665330420  1324.75    66.667  228.435    up"
      ]
     },
     "execution_count": 112,
     "metadata": {},
     "output_type": "execute_result"
    }
   ],
   "source": [
    "\n",
    "import requests\n",
    "\n",
    "ticker = \"ETH\"\n",
    "endpoint = \"https://dev-graphql-apis.equeum.com/tickers/history\"\n",
    "params = {\n",
    "\t\"ticker\": f\"{ticker}\",\n",
    "\t\"from\": 1646082000, # 1 jan 2022\n",
    "\t\"to\": 1672520400, # 1 jan 2023\n",
    "\t\"token\": \"WPyiKanyl-7l0w844qefb7W6OQ1sj3Q671YXMgj5GMT3t\"\n",
    "}\n",
    "\n",
    "res = requests.get(endpoint, params)\n",
    "eq_data = res.json()\n",
    "\n",
    "eqdf = pd.DataFrame(data=eq_data)\n",
    "eqdf['trend'] = np.where(eqdf['forecast'] > 0, 'up', 'down')\n",
    "eqdf.tail()"
   ]
  },
  {
   "cell_type": "code",
   "execution_count": 113,
   "metadata": {},
   "outputs": [
    {
     "data": {
      "text/plain": [
       "time        320808\n",
       "price       318724\n",
       "forecast      1598\n",
       "pnl         316996\n",
       "trend          309\n",
       "dtype: int64"
      ]
     },
     "execution_count": 113,
     "metadata": {},
     "output_type": "execute_result"
    }
   ],
   "source": [
    "(eqdf != eqdf.shift(axis=0)).sum(axis=0)"
   ]
  }
 ],
 "metadata": {
  "kernelspec": {
   "display_name": "Python 3.9.7 ('.env': venv)",
   "language": "python",
   "name": "python3"
  },
  "language_info": {
   "codemirror_mode": {
    "name": "ipython",
    "version": 3
   },
   "file_extension": ".py",
   "mimetype": "text/x-python",
   "name": "python",
   "nbconvert_exporter": "python",
   "pygments_lexer": "ipython3",
   "version": "3.9.7"
  },
  "orig_nbformat": 4,
  "vscode": {
   "interpreter": {
    "hash": "d56d58ba4582dd8fd03d6a9aed2ef9129502506137a652023aaa6485dadf4a35"
   }
  }
 },
 "nbformat": 4,
 "nbformat_minor": 2
}
