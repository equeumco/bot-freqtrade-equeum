{
 "cells": [
  {
   "cell_type": "markdown",
   "metadata": {},
   "source": [
    "## Load existing objects into a Jupyter notebook\n",
    "\n",
    "The following cells assume that you have already generated data using the cli.  \n",
    "They will allow you to drill deeper into your results, and perform analysis which otherwise would make the output very difficult to digest due to information overload."
   ]
  },
  {
   "cell_type": "markdown",
   "metadata": {},
   "source": [
    "### Load backtest results to pandas dataframe\n",
    "\n",
    "Analyze a trades dataframe (also used below for plotting)"
   ]
  },
  {
   "cell_type": "code",
   "execution_count": 34,
   "metadata": {},
   "outputs": [
    {
     "name": "stdout",
     "output_type": "stream",
     "text": [
      "/Users/rnikitin/dev/freqrade-experiments/freqtrade\n"
     ]
    }
   ],
   "source": [
    "%cd /Users/rnikitin/dev/freqrade-experiments/freqtrade\n",
    "\n",
    "from pathlib import Path\n",
    "from freqtrade.configuration import Configuration\n",
    "\n",
    "# Customize these according to your needs.\n",
    "\n",
    "# Initialize empty configuration object\n",
    "config = Configuration.from_files([])\n",
    "# Optionally (recommended), use existing configuration file\n",
    "# config = Configuration.from_files([\"config.json\"])\n",
    "\n",
    "# Define some constants\n",
    "config[\"timeframe\"] = \"1m\"\n",
    "# Name of the strategy class\n",
    "config[\"strategy\"] = \"EqueumBacktestStrategy\"\n",
    "# Location of the data\n",
    "data_location = config['datadir']\n",
    "# Pair to analyze - Only use one pair here\n",
    "pair = \"ETH/USDT\""
   ]
  },
  {
   "cell_type": "code",
   "execution_count": 35,
   "metadata": {},
   "outputs": [],
   "source": [
    "from freqtrade.data.btanalysis import load_backtest_data, load_backtest_stats\n",
    "\n",
    "# if backtest_dir points to a directory, it'll automatically load the last backtest file.\n",
    "backtest_dir = config[\"user_data_dir\"] / \"backtest_results\"\n",
    "# backtest_dir can also point to a specific file \n",
    "# backtest_dir = config[\"user_data_dir\"] / \"backtest_results/backtest-result-2020-07-01_20-04-22.json\""
   ]
  },
  {
   "cell_type": "code",
   "execution_count": 36,
   "metadata": {},
   "outputs": [
    {
     "name": "stdout",
     "output_type": "stream",
     "text": [
      "[{'key': 'ETH/USDT', 'trades': 303, 'profit_mean': 0.005259241306416071, 'profit_mean_pct': 0.5259241306416071, 'profit_sum': 1.5935501158440697, 'profit_sum_pct': 159.36, 'profit_total_abs': 1585.58706715, 'profit_total': 1.58558706715, 'profit_total_pct': 158.56, 'duration_avg': '17:29:00', 'wins': 169, 'draws': 0, 'losses': 134}, {'key': 'TOTAL', 'trades': 303, 'profit_mean': 0.005259241306416071, 'profit_mean_pct': 0.5259241306416071, 'profit_sum': 1.5935501158440697, 'profit_sum_pct': 159.36, 'profit_total_abs': 1585.58706715, 'profit_total': 1.58558706715, 'profit_total_pct': 158.56, 'duration_avg': '17:29:00', 'wins': 169, 'draws': 0, 'losses': 134}]\n",
      "['ETH/USDT']\n",
      "-0.544558354220597\n",
      "0.3203613143118226\n",
      "2022-06-18 22:52:00\n",
      "2022-07-16 18:43:00\n",
      "[{'key': 'EqueumBacktestStrategy', 'trades': 303, 'profit_mean': 0.005259241306416071, 'profit_mean_pct': 0.5259241306416071, 'profit_sum': 1.5935501158440697, 'profit_sum_pct': 159.36, 'profit_total_abs': 1585.58706715, 'profit_total': 1.58558706715, 'profit_total_pct': 158.56, 'duration_avg': '17:29:00', 'wins': 169, 'draws': 0, 'losses': 134, 'max_drawdown_account': 0.14948687110768494, 'max_drawdown_abs': '320.177'}]\n"
     ]
    }
   ],
   "source": [
    "# You can get the full backtest statistics by using the following command.\n",
    "# This contains all information used to generate the backtest result.\n",
    "stats = load_backtest_stats(backtest_dir)\n",
    "\n",
    "strategy = 'EqueumBacktestStrategy'\n",
    "# All statistics are available per strategy, so if `--strategy-list` was used during backtest, this will be reflected here as well.\n",
    "# Example usages:\n",
    "print(stats['strategy'][strategy]['results_per_pair'])\n",
    "# Get pairlist used for this backtest\n",
    "print(stats['strategy'][strategy]['pairlist'])\n",
    "# Get market change (average change of all pairs from start to end of the backtest period)\n",
    "print(stats['strategy'][strategy]['market_change'])\n",
    "# Maximum drawdown ()\n",
    "print(stats['strategy'][strategy]['max_drawdown'])\n",
    "# Maximum drawdown start and end\n",
    "print(stats['strategy'][strategy]['drawdown_start'])\n",
    "print(stats['strategy'][strategy]['drawdown_end'])\n",
    "\n",
    "\n",
    "# Get strategy comparison (only relevant if multiple strategies were compared)\n",
    "print(stats['strategy_comparison'])\n"
   ]
  },
  {
   "cell_type": "code",
   "execution_count": 37,
   "metadata": {},
   "outputs": [
    {
     "data": {
      "text/plain": [
       "pair      exit_reason\n",
       "ETH/USDT  exit_signal    302\n",
       "          force_exit       1\n",
       "Name: exit_reason, dtype: int64"
      ]
     },
     "execution_count": 37,
     "metadata": {},
     "output_type": "execute_result"
    }
   ],
   "source": [
    "# Load backtested trades as dataframe\n",
    "trades = load_backtest_data(backtest_dir)\n",
    "\n",
    "# Show value-counts per pair\n",
    "trades.groupby(\"pair\")[\"exit_reason\"].value_counts()"
   ]
  },
  {
   "cell_type": "markdown",
   "metadata": {},
   "source": [
    "## Plotting daily profit / equity line"
   ]
  },
  {
   "cell_type": "code",
   "execution_count": 38,
   "metadata": {},
   "outputs": [
    {
     "data": {
      "application/vnd.plotly.v1+json": {
       "config": {
        "plotlyServerURL": "https://plot.ly"
       },
       "data": [
        {
         "hovertemplate": "dates=%{x}<br>equity_daily=%{y}<extra></extra>",
         "legendgroup": "",
         "line": {
          "color": "#636efa",
          "dash": "solid"
         },
         "marker": {
          "symbol": "circle"
         },
         "mode": "lines",
         "name": "",
         "orientation": "v",
         "showlegend": false,
         "type": "scatter",
         "x": [
          "2022-03-01",
          "2022-03-02",
          "2022-03-03",
          "2022-03-04",
          "2022-03-05",
          "2022-03-06",
          "2022-03-07",
          "2022-03-08",
          "2022-03-09",
          "2022-03-10",
          "2022-03-11",
          "2022-03-12",
          "2022-03-13",
          "2022-03-14",
          "2022-03-15",
          "2022-03-16",
          "2022-03-17",
          "2022-03-18",
          "2022-03-19",
          "2022-03-20",
          "2022-03-21",
          "2022-03-22",
          "2022-03-23",
          "2022-03-24",
          "2022-03-25",
          "2022-03-26",
          "2022-03-27",
          "2022-03-28",
          "2022-03-29",
          "2022-03-30",
          "2022-03-31",
          "2022-04-01",
          "2022-04-02",
          "2022-04-03",
          "2022-04-04",
          "2022-04-05",
          "2022-04-06",
          "2022-04-07",
          "2022-04-08",
          "2022-04-09",
          "2022-04-10",
          "2022-04-11",
          "2022-04-12",
          "2022-04-13",
          "2022-04-14",
          "2022-04-15",
          "2022-04-16",
          "2022-04-17",
          "2022-04-18",
          "2022-04-19",
          "2022-04-20",
          "2022-04-21",
          "2022-04-22",
          "2022-04-23",
          "2022-04-24",
          "2022-04-25",
          "2022-04-26",
          "2022-04-27",
          "2022-04-28",
          "2022-04-29",
          "2022-04-30",
          "2022-05-01",
          "2022-05-02",
          "2022-05-03",
          "2022-05-04",
          "2022-05-05",
          "2022-05-06",
          "2022-05-07",
          "2022-05-08",
          "2022-05-09",
          "2022-05-10",
          "2022-05-11",
          "2022-05-12",
          "2022-05-13",
          "2022-05-14",
          "2022-05-15",
          "2022-05-16",
          "2022-05-17",
          "2022-05-18",
          "2022-05-19",
          "2022-05-20",
          "2022-05-21",
          "2022-05-22",
          "2022-05-23",
          "2022-05-24",
          "2022-05-25",
          "2022-05-26",
          "2022-05-27",
          "2022-05-28",
          "2022-05-29",
          "2022-05-30",
          "2022-05-31",
          "2022-06-01",
          "2022-06-02",
          "2022-06-03",
          "2022-06-04",
          "2022-06-05",
          "2022-06-06",
          "2022-06-07",
          "2022-06-08",
          "2022-06-09",
          "2022-06-10",
          "2022-06-11",
          "2022-06-12",
          "2022-06-13",
          "2022-06-14",
          "2022-06-15",
          "2022-06-16",
          "2022-06-17",
          "2022-06-18",
          "2022-06-19",
          "2022-06-20",
          "2022-06-21",
          "2022-06-22",
          "2022-06-23",
          "2022-06-24",
          "2022-06-25",
          "2022-06-26",
          "2022-06-27",
          "2022-06-28",
          "2022-06-29",
          "2022-06-30",
          "2022-07-01",
          "2022-07-02",
          "2022-07-03",
          "2022-07-04",
          "2022-07-05",
          "2022-07-06",
          "2022-07-07",
          "2022-07-08",
          "2022-07-09",
          "2022-07-10",
          "2022-07-11",
          "2022-07-12",
          "2022-07-13",
          "2022-07-14",
          "2022-07-15",
          "2022-07-16",
          "2022-07-17",
          "2022-07-18",
          "2022-07-19",
          "2022-07-20",
          "2022-07-21",
          "2022-07-22",
          "2022-07-23",
          "2022-07-24",
          "2022-07-25",
          "2022-07-26",
          "2022-07-27",
          "2022-07-28",
          "2022-07-29",
          "2022-07-30",
          "2022-07-31",
          "2022-08-01",
          "2022-08-02",
          "2022-08-03",
          "2022-08-04",
          "2022-08-05",
          "2022-08-06",
          "2022-08-07",
          "2022-08-08",
          "2022-08-09",
          "2022-08-10",
          "2022-08-11",
          "2022-08-12",
          "2022-08-13",
          "2022-08-14",
          "2022-08-15",
          "2022-08-16",
          "2022-08-17",
          "2022-08-18",
          "2022-08-19",
          "2022-08-20",
          "2022-08-21",
          "2022-08-22",
          "2022-08-23",
          "2022-08-24",
          "2022-08-25",
          "2022-08-26",
          "2022-08-27",
          "2022-08-28",
          "2022-08-29",
          "2022-08-30",
          "2022-08-31",
          "2022-09-01",
          "2022-09-02",
          "2022-09-03",
          "2022-09-04",
          "2022-09-05",
          "2022-09-06",
          "2022-09-07",
          "2022-09-08",
          "2022-09-09",
          "2022-09-10",
          "2022-09-11",
          "2022-09-12",
          "2022-09-13",
          "2022-09-14",
          "2022-09-15",
          "2022-09-16",
          "2022-09-17",
          "2022-09-18",
          "2022-09-19",
          "2022-09-20",
          "2022-09-21",
          "2022-09-22",
          "2022-09-23",
          "2022-09-24",
          "2022-09-25",
          "2022-09-26",
          "2022-09-27",
          "2022-09-28",
          "2022-09-29",
          "2022-09-30",
          "2022-10-01",
          "2022-10-02",
          "2022-10-03",
          "2022-10-04",
          "2022-10-05",
          "2022-10-06",
          "2022-10-07",
          "2022-10-08"
         ],
         "xaxis": "x",
         "y": [
          0,
          -1.36452049,
          -3.1871661700000002,
          -40.589559089999995,
          28.456815730000002,
          49.22596506000001,
          62.751361710000005,
          62.751361710000005,
          37.28817139,
          -19.19695025,
          17.68533566,
          17.68533566,
          11.98067309,
          25.14989585,
          30.62886171,
          32.4108739,
          48.36033131,
          24.69649575,
          24.57861535,
          -56.44496796000001,
          -21.66892380000001,
          -21.66892380000001,
          27.81139535999999,
          27.81139535999999,
          -3.9018089200000077,
          13.884297759999992,
          14.009829529999992,
          7.781346869999992,
          7.781346869999992,
          70.01596788999998,
          52.95924853999998,
          10.323101489999985,
          21.055993339999986,
          79.86484227999998,
          75.39180578999998,
          80.40477439999998,
          72.95745394999997,
          72.95745394999997,
          143.75730746999997,
          161.01115060999996,
          161.01115060999996,
          172.43363626999997,
          108.11172124999996,
          128.50046401999995,
          116.63687018999995,
          168.06191414999995,
          164.34489090999995,
          173.10197113999993,
          177.47698742999992,
          117.26601539999993,
          181.93635827999992,
          198.97424325999992,
          179.29843224999993,
          197.23366077999992,
          201.70751783999992,
          206.36918935999992,
          206.36918935999992,
          229.4614219999999,
          281.08124366999994,
          277.29734247999994,
          316.38847025999996,
          297.06472061999995,
          315.58798200999996,
          353.038263,
          348.52511002,
          344.57337987,
          344.57337987,
          322.96189783,
          316.36587594,
          308.18306793000005,
          362.94236464000005,
          372.09726468,
          483.74945661000004,
          375.98666576000005,
          375.98666576000005,
          373.36398926000004,
          373.36398926000004,
          373.36398926000004,
          427.29640393000005,
          427.29640393000005,
          498.77052088000005,
          584.66332766,
          603.13455102,
          568.14770944,
          534.68633203,
          553.52672045,
          580.28449284,
          532.3164887199999,
          532.3164887199999,
          532.3164887199999,
          564.72990522,
          643.76654004,
          643.76654004,
          606.10340154,
          652.80523258,
          652.5191026900001,
          679.0336401500001,
          683.1885954200001,
          721.1966666500001,
          782.2161930600001,
          800.7495533300001,
          801.0682373600001,
          800.9257760500001,
          961.6933068500001,
          961.6933068500001,
          954.3830989000002,
          799.5902658400001,
          848.2690724300002,
          946.5546875700002,
          1029.6431967300002,
          1141.8406690000002,
          1055.4789412700002,
          999.2795043700002,
          999.2795043700002,
          979.4809566100001,
          984.5415142400001,
          1032.62108732,
          973.06739333,
          990.72887665,
          1040.37198302,
          1010.42816095,
          1046.46604966,
          989.31540344,
          977.38971148,
          1034.2572469699999,
          1045.59723537,
          1114.2263980999999,
          1129.0652880799998,
          1118.3666927099998,
          1041.3454368599998,
          1040.9520909499997,
          1045.8982466599998,
          1012.8788345799998,
          1034.0756287599997,
          976.2219031799998,
          979.6316929399998,
          907.9533371199998,
          923.1051367299998,
          821.6636089799998,
          854.2197968199998,
          1022.0385885499998,
          1022.0385885499998,
          1021.9770407099998,
          1015.3275250799998,
          1039.2478234699997,
          1120.0759954699997,
          1154.4734896199998,
          1210.4088679199997,
          1148.1943659299998,
          1130.7213535699998,
          1324.28933539,
          1324.28933539,
          1324.28933539,
          1336.79033239,
          1336.79033239,
          1278.64246399,
          1265.4440067399998,
          1245.02419313,
          1201.44920155,
          1246.28273918,
          1275.01212405,
          1275.01212405,
          1330.69385254,
          1372.5997264500002,
          1503.1264655400003,
          1523.0342900400003,
          1571.7773044100004,
          1561.6916714500003,
          1506.3448570000003,
          1506.3448570000003,
          1528.2282710700003,
          1528.2282710700003,
          1524.5890161800003,
          1420.1221809400004,
          1431.1832394700004,
          1431.1832394700004,
          1420.8054268600004,
          1369.3400057100002,
          1373.5649516700003,
          1364.8971422900001,
          1364.8971422900001,
          1481.7687779900002,
          1481.7687779900002,
          1500.9354504000003,
          1460.9278230800003,
          1450.4939137600002,
          1443.9789342400002,
          1443.9789342400002,
          1457.9251576200002,
          1459.9302083500002,
          1444.75040968,
          1533.31003957,
          1580.00501811,
          1593.35860766,
          1593.35860766,
          1562.05893481,
          1562.05893481,
          1535.05211932,
          1535.05211932,
          1522.98881123,
          1561.48364026,
          1580.35243793,
          1589.71537221,
          1513.1926665199999,
          1523.4873358399998,
          1444.7965290299999,
          1469.8585106199998,
          1496.7123419599998,
          1521.7914892599997,
          1518.9337732399997,
          1519.7763986799996,
          1555.2974158199995,
          1567.2772561399995,
          1561.0836654599996,
          1550.5488277699997,
          1550.5488277699997,
          1569.1080356999996,
          1569.1080356999996,
          1598.3155384099996,
          1599.9349155699997,
          1602.7372158399996,
          1603.8911058999997
         ],
         "yaxis": "y"
        }
       ],
       "layout": {
        "legend": {
         "tracegroupgap": 0
        },
        "margin": {
         "t": 60
        },
        "template": {
         "data": {
          "bar": [
           {
            "error_x": {
             "color": "#2a3f5f"
            },
            "error_y": {
             "color": "#2a3f5f"
            },
            "marker": {
             "line": {
              "color": "#E5ECF6",
              "width": 0.5
             },
             "pattern": {
              "fillmode": "overlay",
              "size": 10,
              "solidity": 0.2
             }
            },
            "type": "bar"
           }
          ],
          "barpolar": [
           {
            "marker": {
             "line": {
              "color": "#E5ECF6",
              "width": 0.5
             },
             "pattern": {
              "fillmode": "overlay",
              "size": 10,
              "solidity": 0.2
             }
            },
            "type": "barpolar"
           }
          ],
          "carpet": [
           {
            "aaxis": {
             "endlinecolor": "#2a3f5f",
             "gridcolor": "white",
             "linecolor": "white",
             "minorgridcolor": "white",
             "startlinecolor": "#2a3f5f"
            },
            "baxis": {
             "endlinecolor": "#2a3f5f",
             "gridcolor": "white",
             "linecolor": "white",
             "minorgridcolor": "white",
             "startlinecolor": "#2a3f5f"
            },
            "type": "carpet"
           }
          ],
          "choropleth": [
           {
            "colorbar": {
             "outlinewidth": 0,
             "ticks": ""
            },
            "type": "choropleth"
           }
          ],
          "contour": [
           {
            "colorbar": {
             "outlinewidth": 0,
             "ticks": ""
            },
            "colorscale": [
             [
              0,
              "#0d0887"
             ],
             [
              0.1111111111111111,
              "#46039f"
             ],
             [
              0.2222222222222222,
              "#7201a8"
             ],
             [
              0.3333333333333333,
              "#9c179e"
             ],
             [
              0.4444444444444444,
              "#bd3786"
             ],
             [
              0.5555555555555556,
              "#d8576b"
             ],
             [
              0.6666666666666666,
              "#ed7953"
             ],
             [
              0.7777777777777778,
              "#fb9f3a"
             ],
             [
              0.8888888888888888,
              "#fdca26"
             ],
             [
              1,
              "#f0f921"
             ]
            ],
            "type": "contour"
           }
          ],
          "contourcarpet": [
           {
            "colorbar": {
             "outlinewidth": 0,
             "ticks": ""
            },
            "type": "contourcarpet"
           }
          ],
          "heatmap": [
           {
            "colorbar": {
             "outlinewidth": 0,
             "ticks": ""
            },
            "colorscale": [
             [
              0,
              "#0d0887"
             ],
             [
              0.1111111111111111,
              "#46039f"
             ],
             [
              0.2222222222222222,
              "#7201a8"
             ],
             [
              0.3333333333333333,
              "#9c179e"
             ],
             [
              0.4444444444444444,
              "#bd3786"
             ],
             [
              0.5555555555555556,
              "#d8576b"
             ],
             [
              0.6666666666666666,
              "#ed7953"
             ],
             [
              0.7777777777777778,
              "#fb9f3a"
             ],
             [
              0.8888888888888888,
              "#fdca26"
             ],
             [
              1,
              "#f0f921"
             ]
            ],
            "type": "heatmap"
           }
          ],
          "heatmapgl": [
           {
            "colorbar": {
             "outlinewidth": 0,
             "ticks": ""
            },
            "colorscale": [
             [
              0,
              "#0d0887"
             ],
             [
              0.1111111111111111,
              "#46039f"
             ],
             [
              0.2222222222222222,
              "#7201a8"
             ],
             [
              0.3333333333333333,
              "#9c179e"
             ],
             [
              0.4444444444444444,
              "#bd3786"
             ],
             [
              0.5555555555555556,
              "#d8576b"
             ],
             [
              0.6666666666666666,
              "#ed7953"
             ],
             [
              0.7777777777777778,
              "#fb9f3a"
             ],
             [
              0.8888888888888888,
              "#fdca26"
             ],
             [
              1,
              "#f0f921"
             ]
            ],
            "type": "heatmapgl"
           }
          ],
          "histogram": [
           {
            "marker": {
             "pattern": {
              "fillmode": "overlay",
              "size": 10,
              "solidity": 0.2
             }
            },
            "type": "histogram"
           }
          ],
          "histogram2d": [
           {
            "colorbar": {
             "outlinewidth": 0,
             "ticks": ""
            },
            "colorscale": [
             [
              0,
              "#0d0887"
             ],
             [
              0.1111111111111111,
              "#46039f"
             ],
             [
              0.2222222222222222,
              "#7201a8"
             ],
             [
              0.3333333333333333,
              "#9c179e"
             ],
             [
              0.4444444444444444,
              "#bd3786"
             ],
             [
              0.5555555555555556,
              "#d8576b"
             ],
             [
              0.6666666666666666,
              "#ed7953"
             ],
             [
              0.7777777777777778,
              "#fb9f3a"
             ],
             [
              0.8888888888888888,
              "#fdca26"
             ],
             [
              1,
              "#f0f921"
             ]
            ],
            "type": "histogram2d"
           }
          ],
          "histogram2dcontour": [
           {
            "colorbar": {
             "outlinewidth": 0,
             "ticks": ""
            },
            "colorscale": [
             [
              0,
              "#0d0887"
             ],
             [
              0.1111111111111111,
              "#46039f"
             ],
             [
              0.2222222222222222,
              "#7201a8"
             ],
             [
              0.3333333333333333,
              "#9c179e"
             ],
             [
              0.4444444444444444,
              "#bd3786"
             ],
             [
              0.5555555555555556,
              "#d8576b"
             ],
             [
              0.6666666666666666,
              "#ed7953"
             ],
             [
              0.7777777777777778,
              "#fb9f3a"
             ],
             [
              0.8888888888888888,
              "#fdca26"
             ],
             [
              1,
              "#f0f921"
             ]
            ],
            "type": "histogram2dcontour"
           }
          ],
          "mesh3d": [
           {
            "colorbar": {
             "outlinewidth": 0,
             "ticks": ""
            },
            "type": "mesh3d"
           }
          ],
          "parcoords": [
           {
            "line": {
             "colorbar": {
              "outlinewidth": 0,
              "ticks": ""
             }
            },
            "type": "parcoords"
           }
          ],
          "pie": [
           {
            "automargin": true,
            "type": "pie"
           }
          ],
          "scatter": [
           {
            "fillpattern": {
             "fillmode": "overlay",
             "size": 10,
             "solidity": 0.2
            },
            "type": "scatter"
           }
          ],
          "scatter3d": [
           {
            "line": {
             "colorbar": {
              "outlinewidth": 0,
              "ticks": ""
             }
            },
            "marker": {
             "colorbar": {
              "outlinewidth": 0,
              "ticks": ""
             }
            },
            "type": "scatter3d"
           }
          ],
          "scattercarpet": [
           {
            "marker": {
             "colorbar": {
              "outlinewidth": 0,
              "ticks": ""
             }
            },
            "type": "scattercarpet"
           }
          ],
          "scattergeo": [
           {
            "marker": {
             "colorbar": {
              "outlinewidth": 0,
              "ticks": ""
             }
            },
            "type": "scattergeo"
           }
          ],
          "scattergl": [
           {
            "marker": {
             "colorbar": {
              "outlinewidth": 0,
              "ticks": ""
             }
            },
            "type": "scattergl"
           }
          ],
          "scattermapbox": [
           {
            "marker": {
             "colorbar": {
              "outlinewidth": 0,
              "ticks": ""
             }
            },
            "type": "scattermapbox"
           }
          ],
          "scatterpolar": [
           {
            "marker": {
             "colorbar": {
              "outlinewidth": 0,
              "ticks": ""
             }
            },
            "type": "scatterpolar"
           }
          ],
          "scatterpolargl": [
           {
            "marker": {
             "colorbar": {
              "outlinewidth": 0,
              "ticks": ""
             }
            },
            "type": "scatterpolargl"
           }
          ],
          "scatterternary": [
           {
            "marker": {
             "colorbar": {
              "outlinewidth": 0,
              "ticks": ""
             }
            },
            "type": "scatterternary"
           }
          ],
          "surface": [
           {
            "colorbar": {
             "outlinewidth": 0,
             "ticks": ""
            },
            "colorscale": [
             [
              0,
              "#0d0887"
             ],
             [
              0.1111111111111111,
              "#46039f"
             ],
             [
              0.2222222222222222,
              "#7201a8"
             ],
             [
              0.3333333333333333,
              "#9c179e"
             ],
             [
              0.4444444444444444,
              "#bd3786"
             ],
             [
              0.5555555555555556,
              "#d8576b"
             ],
             [
              0.6666666666666666,
              "#ed7953"
             ],
             [
              0.7777777777777778,
              "#fb9f3a"
             ],
             [
              0.8888888888888888,
              "#fdca26"
             ],
             [
              1,
              "#f0f921"
             ]
            ],
            "type": "surface"
           }
          ],
          "table": [
           {
            "cells": {
             "fill": {
              "color": "#EBF0F8"
             },
             "line": {
              "color": "white"
             }
            },
            "header": {
             "fill": {
              "color": "#C8D4E3"
             },
             "line": {
              "color": "white"
             }
            },
            "type": "table"
           }
          ]
         },
         "layout": {
          "annotationdefaults": {
           "arrowcolor": "#2a3f5f",
           "arrowhead": 0,
           "arrowwidth": 1
          },
          "autotypenumbers": "strict",
          "coloraxis": {
           "colorbar": {
            "outlinewidth": 0,
            "ticks": ""
           }
          },
          "colorscale": {
           "diverging": [
            [
             0,
             "#8e0152"
            ],
            [
             0.1,
             "#c51b7d"
            ],
            [
             0.2,
             "#de77ae"
            ],
            [
             0.3,
             "#f1b6da"
            ],
            [
             0.4,
             "#fde0ef"
            ],
            [
             0.5,
             "#f7f7f7"
            ],
            [
             0.6,
             "#e6f5d0"
            ],
            [
             0.7,
             "#b8e186"
            ],
            [
             0.8,
             "#7fbc41"
            ],
            [
             0.9,
             "#4d9221"
            ],
            [
             1,
             "#276419"
            ]
           ],
           "sequential": [
            [
             0,
             "#0d0887"
            ],
            [
             0.1111111111111111,
             "#46039f"
            ],
            [
             0.2222222222222222,
             "#7201a8"
            ],
            [
             0.3333333333333333,
             "#9c179e"
            ],
            [
             0.4444444444444444,
             "#bd3786"
            ],
            [
             0.5555555555555556,
             "#d8576b"
            ],
            [
             0.6666666666666666,
             "#ed7953"
            ],
            [
             0.7777777777777778,
             "#fb9f3a"
            ],
            [
             0.8888888888888888,
             "#fdca26"
            ],
            [
             1,
             "#f0f921"
            ]
           ],
           "sequentialminus": [
            [
             0,
             "#0d0887"
            ],
            [
             0.1111111111111111,
             "#46039f"
            ],
            [
             0.2222222222222222,
             "#7201a8"
            ],
            [
             0.3333333333333333,
             "#9c179e"
            ],
            [
             0.4444444444444444,
             "#bd3786"
            ],
            [
             0.5555555555555556,
             "#d8576b"
            ],
            [
             0.6666666666666666,
             "#ed7953"
            ],
            [
             0.7777777777777778,
             "#fb9f3a"
            ],
            [
             0.8888888888888888,
             "#fdca26"
            ],
            [
             1,
             "#f0f921"
            ]
           ]
          },
          "colorway": [
           "#636efa",
           "#EF553B",
           "#00cc96",
           "#ab63fa",
           "#FFA15A",
           "#19d3f3",
           "#FF6692",
           "#B6E880",
           "#FF97FF",
           "#FECB52"
          ],
          "font": {
           "color": "#2a3f5f"
          },
          "geo": {
           "bgcolor": "white",
           "lakecolor": "white",
           "landcolor": "#E5ECF6",
           "showlakes": true,
           "showland": true,
           "subunitcolor": "white"
          },
          "hoverlabel": {
           "align": "left"
          },
          "hovermode": "closest",
          "mapbox": {
           "style": "light"
          },
          "paper_bgcolor": "white",
          "plot_bgcolor": "#E5ECF6",
          "polar": {
           "angularaxis": {
            "gridcolor": "white",
            "linecolor": "white",
            "ticks": ""
           },
           "bgcolor": "#E5ECF6",
           "radialaxis": {
            "gridcolor": "white",
            "linecolor": "white",
            "ticks": ""
           }
          },
          "scene": {
           "xaxis": {
            "backgroundcolor": "#E5ECF6",
            "gridcolor": "white",
            "gridwidth": 2,
            "linecolor": "white",
            "showbackground": true,
            "ticks": "",
            "zerolinecolor": "white"
           },
           "yaxis": {
            "backgroundcolor": "#E5ECF6",
            "gridcolor": "white",
            "gridwidth": 2,
            "linecolor": "white",
            "showbackground": true,
            "ticks": "",
            "zerolinecolor": "white"
           },
           "zaxis": {
            "backgroundcolor": "#E5ECF6",
            "gridcolor": "white",
            "gridwidth": 2,
            "linecolor": "white",
            "showbackground": true,
            "ticks": "",
            "zerolinecolor": "white"
           }
          },
          "shapedefaults": {
           "line": {
            "color": "#2a3f5f"
           }
          },
          "ternary": {
           "aaxis": {
            "gridcolor": "white",
            "linecolor": "white",
            "ticks": ""
           },
           "baxis": {
            "gridcolor": "white",
            "linecolor": "white",
            "ticks": ""
           },
           "bgcolor": "#E5ECF6",
           "caxis": {
            "gridcolor": "white",
            "linecolor": "white",
            "ticks": ""
           }
          },
          "title": {
           "x": 0.05
          },
          "xaxis": {
           "automargin": true,
           "gridcolor": "white",
           "linecolor": "white",
           "ticks": "",
           "title": {
            "standoff": 15
           },
           "zerolinecolor": "white",
           "zerolinewidth": 2
          },
          "yaxis": {
           "automargin": true,
           "gridcolor": "white",
           "linecolor": "white",
           "ticks": "",
           "title": {
            "standoff": 15
           },
           "zerolinecolor": "white",
           "zerolinewidth": 2
          }
         }
        },
        "xaxis": {
         "anchor": "y",
         "domain": [
          0,
          1
         ],
         "title": {
          "text": "dates"
         }
        },
        "yaxis": {
         "anchor": "x",
         "domain": [
          0,
          1
         ],
         "title": {
          "text": "equity_daily"
         }
        }
       }
      }
     },
     "metadata": {},
     "output_type": "display_data"
    }
   ],
   "source": [
    "# Plotting equity line (starting with 0 on day 1 and adding daily profit for each backtested day)\n",
    "\n",
    "from freqtrade.configuration import Configuration\n",
    "from freqtrade.data.btanalysis import load_backtest_data, load_backtest_stats\n",
    "import plotly.express as px\n",
    "import pandas as pd\n",
    "\n",
    "# strategy = 'SampleStrategy'\n",
    "# config = Configuration.from_files([\"user_data/config.json\"])\n",
    "# backtest_dir = config[\"user_data_dir\"] / \"backtest_results\"\n",
    "\n",
    "stats = load_backtest_stats(backtest_dir)\n",
    "strategy_stats = stats['strategy'][strategy]\n",
    "\n",
    "dates = []\n",
    "profits = []\n",
    "for date_profit in strategy_stats['daily_profit']:\n",
    "    dates.append(date_profit[0])\n",
    "    profits.append(date_profit[1])\n",
    "\n",
    "equity = 0\n",
    "equity_daily = []\n",
    "for daily_profit in profits:\n",
    "    equity_daily.append(equity)\n",
    "    equity += float(daily_profit)\n",
    "\n",
    "\n",
    "df = pd.DataFrame({'dates': dates,'equity_daily': equity_daily})\n",
    "\n",
    "fig = px.line(df, x=\"dates\", y=\"equity_daily\")\n",
    "fig.show()\n"
   ]
  },
  {
   "cell_type": "markdown",
   "metadata": {},
   "source": [
    "### Quant Stats"
   ]
  },
  {
   "cell_type": "code",
   "execution_count": 39,
   "metadata": {},
   "outputs": [
    {
     "name": "stdout",
     "output_type": "stream",
     "text": [
      "float64\n"
     ]
    }
   ],
   "source": [
    "%matplotlib inline\n",
    "import quantstats as qs\n",
    "\n",
    "pct_changes = pd.Series(data=equity_daily).pct_change()\n",
    "\n",
    "print(pct_changes.dtypes)\n",
    "\n",
    "# strategy_returns = pd.Series(data=pct_changes.values.tolist(), index=dates)\n",
    "\n",
    "# qs.reports.full(strategy_returns)"
   ]
  }
 ],
 "metadata": {
  "file_extension": ".py",
  "kernelspec": {
   "display_name": "Python 3.9.7 ('.env': venv)",
   "language": "python",
   "name": "python3"
  },
  "language_info": {
   "codemirror_mode": {
    "name": "ipython",
    "version": 3
   },
   "file_extension": ".py",
   "mimetype": "text/x-python",
   "name": "python",
   "nbconvert_exporter": "python",
   "pygments_lexer": "ipython3",
   "version": "3.9.7"
  },
  "mimetype": "text/x-python",
  "name": "python",
  "npconvert_exporter": "python",
  "pygments_lexer": "ipython3",
  "toc": {
   "base_numbering": 1,
   "nav_menu": {},
   "number_sections": true,
   "sideBar": true,
   "skip_h1_title": false,
   "title_cell": "Table of Contents",
   "title_sidebar": "Contents",
   "toc_cell": false,
   "toc_position": {},
   "toc_section_display": true,
   "toc_window_display": false
  },
  "varInspector": {
   "cols": {
    "lenName": 16,
    "lenType": 16,
    "lenVar": 40
   },
   "kernels_config": {
    "python": {
     "delete_cmd_postfix": "",
     "delete_cmd_prefix": "del ",
     "library": "var_list.py",
     "varRefreshCmd": "print(var_dic_list())"
    },
    "r": {
     "delete_cmd_postfix": ") ",
     "delete_cmd_prefix": "rm(",
     "library": "var_list.r",
     "varRefreshCmd": "cat(var_dic_list()) "
    }
   },
   "types_to_exclude": [
    "module",
    "function",
    "builtin_function_or_method",
    "instance",
    "_Feature"
   ],
   "window_display": false
  },
  "version": 3,
  "vscode": {
   "interpreter": {
    "hash": "d56d58ba4582dd8fd03d6a9aed2ef9129502506137a652023aaa6485dadf4a35"
   }
  }
 },
 "nbformat": 4,
 "nbformat_minor": 4
}
