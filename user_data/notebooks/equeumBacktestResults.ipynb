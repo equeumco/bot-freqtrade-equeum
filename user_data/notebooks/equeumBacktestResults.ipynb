{
 "cells": [
  {
   "cell_type": "code",
   "execution_count": 19,
   "metadata": {},
   "outputs": [
    {
     "name": "stdout",
     "output_type": "stream",
     "text": [
      "/Users/rnikitin/dev/equeum/freqtrade\n"
     ]
    }
   ],
   "source": [
    "# !!! change this to your freqtrade root directory\n",
    "%cd /Users/rnikitin/dev/equeum/freqtrade\n",
    "\n",
    "from freqtrade.data.btanalysis import load_backtest_data, load_backtest_stats\n",
    "from freqtrade.configuration import Configuration\n",
    "import pandas as pd\n",
    "import numpy as np\n",
    "from datetime import datetime\n",
    "\n",
    "now = datetime.now()\n",
    "\n",
    "config = Configuration.from_files([])\n",
    "# if backtest_dir points to a directory, it'll automatically load the last backtest file.\n",
    "backtest_dir = config[\"user_data_dir\"] / \"backtest_results\"\n",
    "# backtest_dir can also point to a specific file \n",
    "# backtest_dir = config[\"user_data_dir\"] / \"backtest_results/backtest-result-2020-07-01_20-04-22.json\"\n",
    "\n",
    "\n",
    "stats = load_backtest_stats(backtest_dir)\n",
    "strategy = 'EqueumBacktestStrategy'\n",
    "\n",
    "strategy_trades = pd.DataFrame(data=stats['strategy'][strategy]['trades'])\n",
    "strategy_trades['order_type'] = np.where(strategy_trades['is_short'], 'short', 'long')\n",
    "trades = strategy_trades[['order_type', 'open_date', 'close_date', 'open_rate', 'close_rate', 'trade_duration', 'profit_ratio']].copy()\n",
    "trades['trade_duration'] = trades['trade_duration'] * 60\n",
    "\n",
    "trades = trades.sort_values(by=['open_date'], ascending=False)\n",
    "\n",
    "trades.to_csv(f\"user_data/notebooks/trades_{strategy}_{now.strftime('%c')}.csv\")"
   ]
  }
 ],
 "metadata": {
  "file_extension": ".py",
  "kernelspec": {
   "display_name": "Python 3.9.7 ('base')",
   "language": "python",
   "name": "python3"
  },
  "language_info": {
   "codemirror_mode": {
    "name": "ipython",
    "version": 3
   },
   "file_extension": ".py",
   "mimetype": "text/x-python",
   "name": "python",
   "nbconvert_exporter": "python",
   "pygments_lexer": "ipython3",
   "version": "3.9.7"
  },
  "mimetype": "text/x-python",
  "name": "python",
  "npconvert_exporter": "python",
  "pygments_lexer": "ipython3",
  "toc": {
   "base_numbering": 1,
   "nav_menu": {},
   "number_sections": true,
   "sideBar": true,
   "skip_h1_title": false,
   "title_cell": "Table of Contents",
   "title_sidebar": "Contents",
   "toc_cell": false,
   "toc_position": {},
   "toc_section_display": true,
   "toc_window_display": false
  },
  "varInspector": {
   "cols": {
    "lenName": 16,
    "lenType": 16,
    "lenVar": 40
   },
   "kernels_config": {
    "python": {
     "delete_cmd_postfix": "",
     "delete_cmd_prefix": "del ",
     "library": "var_list.py",
     "varRefreshCmd": "print(var_dic_list())"
    },
    "r": {
     "delete_cmd_postfix": ") ",
     "delete_cmd_prefix": "rm(",
     "library": "var_list.r",
     "varRefreshCmd": "cat(var_dic_list()) "
    }
   },
   "types_to_exclude": [
    "module",
    "function",
    "builtin_function_or_method",
    "instance",
    "_Feature"
   ],
   "window_display": false
  },
  "version": 3,
  "vscode": {
   "interpreter": {
    "hash": "5230fcba013096680a4d89b2939f47fc0c2b8f839c7738848b8b33d0f29994bf"
   }
  }
 },
 "nbformat": 4,
 "nbformat_minor": 4
}
